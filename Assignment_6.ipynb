{
 "cells": [
  {
   "cell_type": "markdown",
   "id": "c95687b9",
   "metadata": {},
   "source": [
    "1. What are keywords in python? Using the keyword library, print all the python keywords.\n",
    "-Keywords are reserved for their own uses and immutable in nature"
   ]
  },
  {
   "cell_type": "code",
   "execution_count": 5,
   "id": "2a32dd75",
   "metadata": {},
   "outputs": [
    {
     "name": "stdout",
     "output_type": "stream",
     "text": [
      "['False', 'None', 'True', 'and', 'as', 'assert', 'async', 'await', 'break', 'class', 'continue', 'def', 'del', 'elif', 'else', 'except', 'finally', 'for', 'from', 'global', 'if', 'import', 'in', 'is', 'lambda', 'nonlocal', 'not', 'or', 'pass', 'raise', 'return', 'try', 'while', 'with', 'yield']\n"
     ]
    }
   ],
   "source": [
    "import keyword\n",
    "\n",
    "print(keyword.kwlist)"
   ]
  },
  {
   "cell_type": "markdown",
   "id": "003e39c6",
   "metadata": {},
   "source": [
    "2. What are the rules to create variables in python?\n",
    "- Variables can not start with numbers and special characters except underscore (_) and keywords are not uses as variables"
   ]
  },
  {
   "cell_type": "markdown",
   "id": "5db1c759",
   "metadata": {},
   "source": [
    "3. What are the standards and conventions followed for the nomenclature of variables in\n",
    "python to improve code readability and maintainability?\n",
    "- Use lowercase letters,\n",
    "- separate words with underscores (_),\n",
    "- Use meaningful names related to your work,\n",
    "- Avoid using names that are already built-in,"
   ]
  },
  {
   "cell_type": "markdown",
   "id": "fc4cde46",
   "metadata": {},
   "source": [
    "4. What will happen if a keyword is used as a variable name?\n",
    "- if we use any keyword as a variable it shows a error(invalid syntax)"
   ]
  },
  {
   "cell_type": "markdown",
   "id": "c282d1a5",
   "metadata": {},
   "source": [
    "5. For what purpose def keyword is used?\n",
    "- def keyword is use to define a function"
   ]
  },
  {
   "cell_type": "markdown",
   "id": "dcdc11da",
   "metadata": {},
   "source": [
    "6. What is the operation of this special character ‘\\’?\n",
    "- Backslash(\\) is use for make a multiline statement"
   ]
  },
  {
   "cell_type": "code",
   "execution_count": null,
   "id": "46aebca7",
   "metadata": {},
   "outputs": [],
   "source": [
    "7. Give an example of the following conditions:"
   ]
  },
  {
   "cell_type": "code",
   "execution_count": 12,
   "id": "ef208e95",
   "metadata": {},
   "outputs": [],
   "source": [
    "#Homogeneous list\n",
    "List= [1,2,3,4,5,6,7] # Same data type is used\n",
    "#Heterogeneous set\n",
    "Set= {1,2,\"new\",4,5,\"one\"}  # Different data types is used.\n",
    "#Homogeneous tuple\n",
    "Tuple= (\"ineuron\",\"data science\",\"python\")  # Same data type is used"
   ]
  },
  {
   "cell_type": "markdown",
   "id": "73d90f3b",
   "metadata": {},
   "source": [
    "8. Explain the mutable and immutable data types with proper explanation & examples.\n",
    "- Mutable data types:- we can change/modify these data types when it is needed according to our work.\n",
    "- immutable data types:- As the name suggest we cannot change/modify these types if we try to modify\n",
    "  it throws a error"
   ]
  },
  {
   "cell_type": "code",
   "execution_count": 9,
   "id": "f92d1082",
   "metadata": {},
   "outputs": [
    {
     "name": "stdout",
     "output_type": "stream",
     "text": [
      "['a', 'b', 'c', 'e']\n"
     ]
    },
    {
     "ename": "AttributeError",
     "evalue": "'tuple' object has no attribute 'insert'",
     "output_type": "error",
     "traceback": [
      "\u001b[1;31m---------------------------------------------------------------------------\u001b[0m",
      "\u001b[1;31mAttributeError\u001b[0m                            Traceback (most recent call last)",
      "Cell \u001b[1;32mIn[9], line 7\u001b[0m\n\u001b[0;32m      5\u001b[0m \u001b[38;5;66;03m#Example of immutable\u001b[39;00m\n\u001b[0;32m      6\u001b[0m tup1\u001b[38;5;241m=\u001b[39m(\u001b[38;5;124m\"\u001b[39m\u001b[38;5;124ma\u001b[39m\u001b[38;5;124m\"\u001b[39m,\u001b[38;5;124m\"\u001b[39m\u001b[38;5;124mb\u001b[39m\u001b[38;5;124m\"\u001b[39m,\u001b[38;5;124m\"\u001b[39m\u001b[38;5;124mc\u001b[39m\u001b[38;5;124m\"\u001b[39m)\n\u001b[1;32m----> 7\u001b[0m tup1\u001b[38;5;241m.\u001b[39minsert(\u001b[38;5;124m\"\u001b[39m\u001b[38;5;124md\u001b[39m\u001b[38;5;124m\"\u001b[39m) \u001b[38;5;66;03m#try to change \u001b[39;00m\n\u001b[0;32m      8\u001b[0m \u001b[38;5;28mprint\u001b[39m(tup1)\n",
      "\u001b[1;31mAttributeError\u001b[0m: 'tuple' object has no attribute 'insert'"
     ]
    }
   ],
   "source": [
    "#Example of mutable\n",
    "list1=[\"a\",\"b\",\"c\"]\n",
    "list1.append(\"e\")\n",
    "print(list1)\n",
    "#Example of immutable\n",
    "tup1=(\"a\",\"b\",\"c\")\n",
    "tup1.insert(\"d\") #try to change \n",
    "print(tup1) #but it shows an error"
   ]
  },
  {
   "cell_type": "markdown",
   "id": "faba2141",
   "metadata": {},
   "source": [
    "9. Write a code to create the given structure using only for loop.\n"
   ]
  },
  {
   "cell_type": "code",
   "execution_count": 79,
   "id": "8a5634b7",
   "metadata": {},
   "outputs": [
    {
     "name": "stdout",
     "output_type": "stream",
     "text": [
      "          * \n",
      "        * * * \n",
      "      * * * * * \n",
      "    * * * * * * * \n",
      "  * * * * * * * * * \n"
     ]
    }
   ],
   "source": [
    "row=5\n",
    "for i in range(row):\n",
    "    for j in range(row-i):\n",
    "        print(\" \",end=\" \")\n",
    "    for k in range(2*i+1):\n",
    "        print(\"*\",end=\" \")\n",
    "    print()\n",
    "        "
   ]
  },
  {
   "cell_type": "code",
   "execution_count": 37,
   "id": "bae4eb6c",
   "metadata": {},
   "outputs": [
    {
     "name": "stdout",
     "output_type": "stream",
     "text": [
      "| | | | | \n",
      " | | | | \n",
      "  | | | \n",
      "   | | \n",
      "    | \n"
     ]
    }
   ],
   "source": [
    "n=5\n",
    "i=0\n",
    "while i<n:\n",
    "    j=0\n",
    "    while j<i:\n",
    "        print(\" \",end=\"\")\n",
    "        j+=1\n",
    "    k=n\n",
    "    while k>i:\n",
    "        print(\"|\",end=\" \")\n",
    "        k-=1\n",
    "    i+=1\n",
    "    print()"
   ]
  }
 ],
 "metadata": {
  "kernelspec": {
   "display_name": "Python 3 (ipykernel)",
   "language": "python",
   "name": "python3"
  },
  "language_info": {
   "codemirror_mode": {
    "name": "ipython",
    "version": 3
   },
   "file_extension": ".py",
   "mimetype": "text/x-python",
   "name": "python",
   "nbconvert_exporter": "python",
   "pygments_lexer": "ipython3",
   "version": "3.11.3"
  }
 },
 "nbformat": 4,
 "nbformat_minor": 5
}
